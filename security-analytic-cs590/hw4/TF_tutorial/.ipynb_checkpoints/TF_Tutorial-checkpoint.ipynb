{
 "cells": [
  {
   "cell_type": "markdown",
   "metadata": {},
   "source": [
    "# CS 59000 Security Analytics: TensorFlow Tutorial\n",
    "### Instructor: Prof. Ninghui Li\n",
    "### TA: Wuwei Zhang"
   ]
  },
  {
   "cell_type": "code",
   "execution_count": 4,
   "metadata": {
    "collapsed": true
   },
   "outputs": [],
   "source": [
    "## Start Tensorflow by importing it!\n",
    "\n",
    "import tensorflow as tf"
   ]
  },
  {
   "cell_type": "markdown",
   "metadata": {},
   "source": [
    "## Why TensorFlow?\n",
    "\n",
    "TensorFlow™ is an open source software library for high performance numerical computation. In this course, you are going to learn how to use tensorflow for data analytics tasks. You can download the tensorflow package from https://www.tensorflow.org.\n"
   ]
  },
  {
   "cell_type": "markdown",
   "metadata": {},
   "source": [
    "## Platform\n",
    "\n",
    "Run deep learning tasks on your own laptop can be painful. Personal laptops and desktops typically are not optimized for matrix computation tasks. In this course, we provide several choices for you. You may choose the one that's most suitable for you. \n",
    "\n"
   ]
  },
  {
   "cell_type": "markdown",
   "metadata": {},
   "source": [
    "\n",
    "### Scholar Cluster\n",
    "\n",
    "Scholar Cluster: ITaP provides a set of stable tensorflow builds on Scholar. At present, tensorflow is provided for two major Python versions: 2.7 and 3.5. You can find these central tensorflow installations using the module command. Please note that newer versions of tensorflow will be installed on a bi-annual basis. \n",
    "\n",
    "To learn more details about Schoar cluster, please check: https://www.rcac.purdue.edu/knowledge/scholar/all#overview\n",
    "\n",
    "If you decide to use Scholar, please the following pages carefully:\n",
    "\n",
    "Tensorflow: https://www.rcac.purdue.edu/knowledge/scholar/all#run_examples_apps_tensorflow\n",
    "\n",
    "Job Submission: https://www.rcac.purdue.edu/knowledge/scholar/all#run\n",
    "\n",
    "Python: https://www.rcac.purdue.edu/knowledge/scholar/all#run_examples_apps_python\n",
    "\n",
    "\n"
   ]
  },
  {
   "cell_type": "markdown",
   "metadata": {},
   "source": [
    "### Commerical Platform\n",
    "If you have never used the \"free trial period\" of the following products, this can be a great chance for you to get familar with these tools. Typically, commerical platform gives you more flexibility and control over the machines. The only drawback is it's not free after free trial period. \n",
    "\n",
    "We suggests the following platform for this course:\n",
    "\n",
    "Amazon AWS: https://aws.amazon.com  They offer a 12-month free trial for the free tier machine.\n",
    "\n",
    "Google Cloud: https://cloud.google.com They offer $300 credits for free trial. you can choose any machines you want. Make sure you check the price list of machines. The better the machine, the more you get charged per hours.\n",
    "\n",
    "Microsoft Azure: https://azure.microsoft.com/ They offer $200 credits for free trial. You can choose any type of machines you want. Make sure you check the price list of machines. The better the machine, the more you get charged per hours.\n",
    "\n"
   ]
  },
  {
   "cell_type": "markdown",
   "metadata": {},
   "source": [
    "## Tensor Flow Basics"
   ]
  },
  {
   "cell_type": "markdown",
   "metadata": {},
   "source": [
    "### Tensor\n",
    "Constant: 1,2,5\n",
    "\n",
    "Vector: [1,2,3]\n",
    "\n",
    "Matrix: [V1,...,Vn]，where Vi is a vector. or 2-D array in Computer Science.\n",
    "\n",
    "Tensor: 3-D array typically unless specified. An n dimensional tensor is a n-D array."
   ]
  },
  {
   "cell_type": "markdown",
   "metadata": {},
   "source": [
    "### Build Network from Scratch\n",
    "\n",
    "In this section, we will go over basic tensorflow syntax by creating some simple networks. This will help you understand how nerual network are constructed in TF. Building Tensorflow network from scratch is very similar to building a circuit. "
   ]
  },
  {
   "cell_type": "code",
   "execution_count": 5,
   "metadata": {},
   "outputs": [
    {
     "name": "stdout",
     "output_type": "stream",
     "text": [
      "Tensor(\"Const_1:0\", shape=(), dtype=int32)\n",
      "Tensor(\"test_1:0\", shape=(), dtype=int32)\n",
      "Tensor(\"Add_1:0\", shape=(), dtype=int32)\n",
      "False\n"
     ]
    }
   ],
   "source": [
    "def SimpleExample():\n",
    "    a = tf.constant(1)  # Create constant NODE, assign to a. \n",
    "    b = tf.constant(2,name = 'test')   # Create constant Node with name \"test\", assign to b\n",
    "    x = tf.add (a,b) # Create a node takes a and b as input. In circuit, you will call x \"adder\"\n",
    "    y = a+b          # What is y?\n",
    "    print(a)\n",
    "    print(b)\n",
    "    print(x)\n",
    "    print(x==y)\n",
    "    #print(y)\n",
    "    #sess = tf.Session()\n",
    "    #sess.run(tf.global_variables_initializer())\n",
    "    #print(\"a:\",sess.run(a))\n",
    "    #print(\"x:\",sess.run(x))\n",
    "    #print(y)\n",
    "    #print(sess.run(x) == sess.run(y))\n",
    "        \n",
    "SimpleExample()"
   ]
  },
  {
   "cell_type": "code",
   "execution_count": 6,
   "metadata": {},
   "outputs": [
    {
     "name": "stdout",
     "output_type": "stream",
     "text": [
      "<tf.Variable 'scalar_1:0' shape=() dtype=int32_ref>\n",
      "<tf.Variable 'vecolity_1:0' shape=(2,) dtype=int32_ref>\n",
      "<tf.Variable 'M_1:0' shape=(2, 2) dtype=int32_ref>\n",
      "<tf.Variable 'Tensor_1:0' shape=(2, 2, 2) dtype=float32_ref>\n"
     ]
    }
   ],
   "source": [
    "def YetAnotherExample():\n",
    "    # Create a scalor\n",
    "    print (tf.Variable(2, name=\"scalar\"))\n",
    "    # Create a vector called velocity.\n",
    "    print (tf.Variable([1,1], name = \"vecolity\"))\n",
    "    # Create a 2 by 2 matrix\n",
    "    print (tf.Variable([[0, 2], [2, 5]], name=\"M\"))   \n",
    "    # Create a 2 by 2 by 2 Tensor\n",
    "    print (tf.Variable(tf.zeros([2,2,2]), dtype = tf.float32, name=\"Tensor\"))\n",
    "    \n",
    "YetAnotherExample()"
   ]
  },
  {
   "cell_type": "markdown",
   "metadata": {},
   "source": [
    "### Use Existing Libraries\n",
    "With the fantastic libriaries provided by TF, we hardly need to build any network from scratch. In this section we will introduce some useful libraries based on a famous training data set: CIFAR-10. (Based on: https://www.tensorflow.org/tutorials/images/deep_cnn)"
   ]
  },
  {
   "cell_type": "markdown",
   "metadata": {},
   "source": [
    "#### CIFAR-10 and ImageNet\n",
    "CIFAR-10 classification is a common benchmark problem in machine learning. The problem is to classify RGB 32x32 pixel images across 10 categories:\n",
    "\n",
    "airplane, automobile, bird, cat, deer, dog, frog, horse, ship, and truck.\n",
    "\n",
    "Here is the detail descirption of the dataset: https://www.cs.toronto.edu/%7Ekriz/cifar.html\n"
   ]
  },
  {
   "cell_type": "markdown",
   "metadata": {},
   "source": [
    "#### Goals\n",
    "\n",
    "The goal of this tutorial is to build a relatively small convolutional neural network (CNN) for recognizing images. After study this, We hope to provide you :\n",
    "\n",
    "1) The canonical organization for network architecture, training and evaluation.\n",
    "\n",
    "2) A good template for constructing larger and more sophisticated models.\n",
    "\n",
    "The reason CIFAR-10 was selected was that it is complex enough to exercise much of TensorFlow's ability to scale to large models. At the same time, the model is small enough to train fast, which is ideal for trying out new ideas and experimenting with new techniques."
   ]
  },
  {
   "cell_type": "markdown",
   "metadata": {},
   "source": [
    "#### Theoretical Overview of ImageNet\n",
    "\n",
    "The paper can be found here:\n",
    "https://papers.nips.cc/paper/4824-imagenet-classification-with-deep-convolutional-neural-networks.pdf\n",
    "\n",
    "Here is the nerual network of ImageNet\n",
    "<img src=\"CIFAR10.png\">\n",
    "\n"
   ]
  },
  {
   "cell_type": "markdown",
   "metadata": {},
   "source": [
    "Question: How many layers we have? \n",
    "\n",
    "Question 2: What are those layers? \n",
    "\n",
    "==== We will complete the following during the lecture===\n",
    "\n",
    "          Layers     Input Size         Output Size\n",
    "          \n",
    "1\n",
    "\n",
    "2\n",
    "\n",
    "3\n",
    "\n",
    "4\n",
    "\n",
    "5\n",
    "\n",
    "6\n",
    "\n",
    "7\n",
    "\n",
    "8\n",
    "\n",
    "9     Output\n",
    "\n",
    "\n"
   ]
  },
  {
   "cell_type": "markdown",
   "metadata": {},
   "source": [
    "#### Corresponding Libraires\n",
    "By identifing all the network layers, as a tensorflow user, you should always search for an exisiting one.\n",
    "\n",
    "Convolutional Layer: tf.nn.conv2d (wiki)\n",
    "\n",
    "Pooling: tf.nn.max_pool \n",
    "\n",
    "RELU: tf.nn.relu \n",
    "\n",
    "Nomorlization: tf.nn.local_response_normalization\n",
    "\n",
    "Decay: tf.train.exponential_decay"
   ]
  },
  {
   "cell_type": "markdown",
   "metadata": {},
   "source": [
    " \n",
    " <table><tr>\n",
    "    <td > <img src=\"tf2.png\" style=\"height: 300px;width: 200 px\" /> </td>\n",
    "    <td style=\"width: 600px\"> \n",
    "\n",
    "conv1:\ttf.nn.conv2d and tf.nn.relu activation.<br>\n",
    "pool1:\ttf.nn.max_pool.<br>\n",
    "norm1:\ttf.nn.local_response_normalization.<br>\n",
    "conv2:\ttf.nn.conv2d and tf.nn.relu activation.<br>\n",
    "norm2:\ttf.nn.local_response_normalization.<br>\n",
    "pool2:\ttf.nn.max_pool.<br>\n",
    "local3:\tfully connected layer with rectified linear activation.<br>\n",
    "local4:\tfully connected layer with rectified linear activation.<br>\n",
    "softmax_linear linear transformation to produce logits.<br>\n",
    " </td>\n",
    "    </tr>\n",
    "</table>\n",
    "\n"
   ]
  },
  {
   "cell_type": "markdown",
   "metadata": {},
   "source": [
    "#### Building ImageNet in Python\n",
    "\n"
   ]
  },
  {
   "cell_type": "code",
   "execution_count": 2,
   "metadata": {},
   "outputs": [],
   "source": [
    "# Copyright 2015 The TensorFlow Authors. All Rights Reserved.\n",
    "#\n",
    "# Licensed under the Apache License, Version 2.0 (the \"License\");\n",
    "# you may not use this file except in compliance with the License.\n",
    "# You may obtain a copy of the License at\n",
    "#\n",
    "#     http://www.apache.org/licenses/LICENSE-2.0\n",
    "#\n",
    "# Unless required by applicable law or agreed to in writing, software\n",
    "# distributed under the License is distributed on an \"AS IS\" BASIS,\n",
    "# WITHOUT WARRANTIES OR CONDITIONS OF ANY KIND, either express or implied.\n",
    "# See the License for the specific language governing permissions and\n",
    "# limitations under the License.\n",
    "# ==============================================================================\n",
    "\n",
    "\"\"\"Makes helper libraries available in the cifar10 package.\"\"\"\n",
    "from __future__ import absolute_import\n",
    "from __future__ import division\n",
    "from __future__ import print_function\n",
    "\n",
    "import cifar10\n",
    "import cifar10_input\n"
   ]
  },
  {
   "cell_type": "code",
   "execution_count": null,
   "metadata": {
    "collapsed": true
   },
   "outputs": [],
   "source": [
    "#### Training"
   ]
  },
  {
   "cell_type": "code",
   "execution_count": null,
   "metadata": {},
   "outputs": [
    {
     "name": "stdout",
     "output_type": "stream",
     "text": [
      "Filling queue with 20000 CIFAR images before starting to train. This will take a few minutes.\n",
      "INFO:tensorflow:Summary name local3/weight_loss (raw) is illegal; using local3/weight_loss__raw_ instead.\n",
      "INFO:tensorflow:Summary name local4/weight_loss (raw) is illegal; using local4/weight_loss__raw_ instead.\n",
      "INFO:tensorflow:Summary name cross_entropy (raw) is illegal; using cross_entropy__raw_ instead.\n",
      "INFO:tensorflow:Summary name total_loss (raw) is illegal; using total_loss__raw_ instead.\n",
      "INFO:tensorflow:Create CheckpointSaverHook.\n",
      "INFO:tensorflow:Saving checkpoints for 1 into /tmp/cifar10_train/model.ckpt.\n",
      "2018-10-13 18:07:57.158935: step 0, loss = 4.68 (309.0 examples/sec; 0.414 sec/batch)\n",
      "2018-10-13 18:08:00.208380: step 10, loss = 4.61 (419.7 examples/sec; 0.305 sec/batch)\n",
      "2018-10-13 18:08:03.799562: step 20, loss = 4.47 (356.4 examples/sec; 0.359 sec/batch)\n",
      "2018-10-13 18:08:07.227937: step 30, loss = 4.32 (373.4 examples/sec; 0.343 sec/batch)\n",
      "2018-10-13 18:08:10.589601: step 40, loss = 4.38 (380.8 examples/sec; 0.336 sec/batch)\n",
      "2018-10-13 18:08:14.725076: step 50, loss = 4.33 (309.5 examples/sec; 0.414 sec/batch)\n",
      "2018-10-13 18:08:18.416500: step 60, loss = 4.28 (346.7 examples/sec; 0.369 sec/batch)\n",
      "2018-10-13 18:08:21.813987: step 70, loss = 4.35 (376.7 examples/sec; 0.340 sec/batch)\n",
      "2018-10-13 18:08:25.526791: step 80, loss = 4.15 (344.8 examples/sec; 0.371 sec/batch)\n",
      "2018-10-13 18:08:28.952391: step 90, loss = 4.23 (373.7 examples/sec; 0.343 sec/batch)\n",
      "INFO:tensorflow:global_step/sec: 2.77456\n",
      "2018-10-13 18:08:32.592703: step 100, loss = 4.27 (351.6 examples/sec; 0.364 sec/batch)\n",
      "2018-10-13 18:08:36.948877: step 110, loss = 4.07 (293.8 examples/sec; 0.436 sec/batch)\n",
      "2018-10-13 18:08:40.726900: step 120, loss = 3.99 (338.8 examples/sec; 0.378 sec/batch)\n",
      "2018-10-13 18:08:44.770791: step 130, loss = 4.18 (316.5 examples/sec; 0.404 sec/batch)\n",
      "2018-10-13 18:08:48.716120: step 140, loss = 3.91 (324.4 examples/sec; 0.395 sec/batch)\n",
      "2018-10-13 18:08:52.217295: step 150, loss = 4.08 (365.6 examples/sec; 0.350 sec/batch)\n",
      "2018-10-13 18:08:56.107367: step 160, loss = 3.89 (329.0 examples/sec; 0.389 sec/batch)\n",
      "2018-10-13 18:09:00.215542: step 170, loss = 3.73 (311.6 examples/sec; 0.411 sec/batch)\n",
      "2018-10-13 18:09:04.008156: step 180, loss = 3.99 (337.5 examples/sec; 0.379 sec/batch)\n"
     ]
    }
   ],
   "source": [
    "# Copyright 2015 The TensorFlow Authors. All Rights Reserved.\n",
    "#\n",
    "# Licensed under the Apache License, Version 2.0 (the \"License\");\n",
    "# you may not use this file except in compliance with the License.\n",
    "# You may obtain a copy of the License at\n",
    "#\n",
    "#     http://www.apache.org/licenses/LICENSE-2.0\n",
    "#\n",
    "# Unless required by applicable law or agreed to in writing, software\n",
    "# distributed under the License is distributed on an \"AS IS\" BASIS,\n",
    "# WITHOUT WARRANTIES OR CONDITIONS OF ANY KIND, either express or implied.\n",
    "# See the License for the specific language governing permissions and\n",
    "# limitations under the License.\n",
    "# ==============================================================================\n",
    "\n",
    "\"\"\"A binary to train CIFAR-10 using a single GPU.\n",
    "\n",
    "Accuracy:\n",
    "cifar10_train.py achieves ~86% accuracy after 100K steps (256 epochs of\n",
    "data) as judged by cifar10_eval.py.\n",
    "\n",
    "Speed: With batch_size 128.\n",
    "\n",
    "System        | Step Time (sec/batch)  |     Accuracy\n",
    "------------------------------------------------------------------\n",
    "1 Tesla K20m  | 0.35-0.60              | ~86% at 60K steps  (5 hours)\n",
    "1 Tesla K40m  | 0.25-0.35              | ~86% at 100K steps (4 hours)\n",
    "\n",
    "Usage:\n",
    "Please see the tutorial and website for how to download the CIFAR-10\n",
    "data set, compile the program and train the model.\n",
    "\n",
    "http://tensorflow.org/tutorials/deep_cnn/\n",
    "\"\"\"\n",
    "from __future__ import absolute_import\n",
    "from __future__ import division\n",
    "from __future__ import print_function\n",
    "\n",
    "from datetime import datetime\n",
    "import time\n",
    "\n",
    "import tensorflow as tf\n",
    "\n",
    "import cifar10\n",
    "\n",
    "FLAGS = tf.app.flags.FLAGS\n",
    "\n",
    "tf.app.flags.DEFINE_string('train_dir', '/tmp/cifar10_train',\n",
    "                           \"\"\"Directory where to write event logs \"\"\"\n",
    "                           \"\"\"and checkpoint.\"\"\")\n",
    "tf.app.flags.DEFINE_integer('max_steps', 100000,\n",
    "                            \"\"\"Number of batches to run.\"\"\")\n",
    "tf.app.flags.DEFINE_boolean('log_device_placement', False,\n",
    "                            \"\"\"Whether to log device placement.\"\"\")\n",
    "tf.app.flags.DEFINE_integer('log_frequency', 10,\n",
    "                            \"\"\"How often to log results to the console.\"\"\")\n",
    "\n",
    "\n",
    "def train():\n",
    "  \"\"\"Train CIFAR-10 for a number of steps.\"\"\"\n",
    "  with tf.Graph().as_default():\n",
    "    global_step = tf.train.get_or_create_global_step()\n",
    "\n",
    "    # Get images and labels for CIFAR-10.\n",
    "    # Force input pipeline to CPU:0 to avoid operations sometimes ending up on\n",
    "    # GPU and resulting in a slow down.\n",
    "    with tf.device('/cpu:0'):\n",
    "      images, labels = cifar10.distorted_inputs()\n",
    "\n",
    "    # Build a Graph that computes the logits predictions from the\n",
    "    # inference model.\n",
    "    logits = cifar10.inference(images)\n",
    "\n",
    "    # Calculate loss.\n",
    "    loss = cifar10.loss(logits, labels)\n",
    "\n",
    "    # Build a Graph that trains the model with one batch of examples and\n",
    "    # updates the model parameters.\n",
    "    train_op = cifar10.train(loss, global_step)\n",
    "\n",
    "    class _LoggerHook(tf.train.SessionRunHook):\n",
    "      \"\"\"Logs loss and runtime.\"\"\"\n",
    "\n",
    "      def begin(self):\n",
    "        self._step = -1\n",
    "        self._start_time = time.time()\n",
    "\n",
    "      def before_run(self, run_context):\n",
    "        self._step += 1\n",
    "        return tf.train.SessionRunArgs(loss)  # Asks for loss value.\n",
    "\n",
    "      def after_run(self, run_context, run_values):\n",
    "        if self._step % FLAGS.log_frequency == 0:\n",
    "          current_time = time.time()\n",
    "          duration = current_time - self._start_time\n",
    "          self._start_time = current_time\n",
    "\n",
    "          loss_value = run_values.results\n",
    "          examples_per_sec = FLAGS.log_frequency * FLAGS.batch_size / duration\n",
    "          sec_per_batch = float(duration / FLAGS.log_frequency)\n",
    "\n",
    "          format_str = ('%s: step %d, loss = %.2f (%.1f examples/sec; %.3f '\n",
    "                        'sec/batch)')\n",
    "          print (format_str % (datetime.now(), self._step, loss_value,\n",
    "                               examples_per_sec, sec_per_batch))\n",
    "\n",
    "    with tf.train.MonitoredTrainingSession(\n",
    "        checkpoint_dir=FLAGS.train_dir,\n",
    "        hooks=[tf.train.StopAtStepHook(last_step=FLAGS.max_steps),\n",
    "               tf.train.NanTensorHook(loss),\n",
    "               _LoggerHook()],\n",
    "        config=tf.ConfigProto(\n",
    "            log_device_placement=FLAGS.log_device_placement)) as mon_sess:\n",
    "      while not mon_sess.should_stop():\n",
    "        mon_sess.run(train_op)\n",
    "\n",
    "\n",
    "def main(argv=None):  # pylint: disable=unused-argument\n",
    "  cifar10.maybe_download_and_extract()\n",
    "  if tf.gfile.Exists(FLAGS.train_dir):\n",
    "    tf.gfile.DeleteRecursively(FLAGS.train_dir)\n",
    "  tf.gfile.MakeDirs(FLAGS.train_dir)\n",
    "  train()\n",
    "\n",
    "\n",
    "if __name__ == '__main__':\n",
    "  tf.app.run()\n"
   ]
  },
  {
   "cell_type": "markdown",
   "metadata": {},
   "source": [
    "M"
   ]
  },
  {
   "cell_type": "markdown",
   "metadata": {},
   "source": []
  },
  {
   "cell_type": "code",
   "execution_count": 21,
   "metadata": {},
   "outputs": [
    {
     "ename": "AttributeError",
     "evalue": "module 'cifar10' has no attribute 'maybe_download_and_extract'",
     "output_type": "error",
     "traceback": [
      "\u001b[0;31m---------------------------------------------------------------------------\u001b[0m",
      "\u001b[0;31mAttributeError\u001b[0m                            Traceback (most recent call last)",
      "\u001b[0;32m<ipython-input-21-40ad4dae5ccc>\u001b[0m in \u001b[0;36m<module>\u001b[0;34m()\u001b[0m\n\u001b[1;32m    125\u001b[0m \u001b[0;34m\u001b[0m\u001b[0m\n\u001b[1;32m    126\u001b[0m \u001b[0;32mif\u001b[0m \u001b[0m__name__\u001b[0m \u001b[0;34m==\u001b[0m \u001b[0;34m'__main__'\u001b[0m\u001b[0;34m:\u001b[0m\u001b[0;34m\u001b[0m\u001b[0m\n\u001b[0;32m--> 127\u001b[0;31m   \u001b[0mtf\u001b[0m\u001b[0;34m.\u001b[0m\u001b[0mapp\u001b[0m\u001b[0;34m.\u001b[0m\u001b[0mrun\u001b[0m\u001b[0;34m(\u001b[0m\u001b[0;34m)\u001b[0m\u001b[0;34m\u001b[0m\u001b[0m\n\u001b[0m",
      "\u001b[0;32m~/anaconda3/lib/python3.6/site-packages/tensorflow/python/platform/app.py\u001b[0m in \u001b[0;36mrun\u001b[0;34m(main, argv)\u001b[0m\n\u001b[1;32m     46\u001b[0m   \u001b[0;31m# Call the main function, passing through any arguments\u001b[0m\u001b[0;34m\u001b[0m\u001b[0;34m\u001b[0m\u001b[0m\n\u001b[1;32m     47\u001b[0m   \u001b[0;31m# to the final program.\u001b[0m\u001b[0;34m\u001b[0m\u001b[0;34m\u001b[0m\u001b[0m\n\u001b[0;32m---> 48\u001b[0;31m   \u001b[0m_sys\u001b[0m\u001b[0;34m.\u001b[0m\u001b[0mexit\u001b[0m\u001b[0;34m(\u001b[0m\u001b[0mmain\u001b[0m\u001b[0;34m(\u001b[0m\u001b[0m_sys\u001b[0m\u001b[0;34m.\u001b[0m\u001b[0margv\u001b[0m\u001b[0;34m[\u001b[0m\u001b[0;34m:\u001b[0m\u001b[0;36m1\u001b[0m\u001b[0;34m]\u001b[0m \u001b[0;34m+\u001b[0m \u001b[0mflags_passthrough\u001b[0m\u001b[0;34m)\u001b[0m\u001b[0;34m)\u001b[0m\u001b[0;34m\u001b[0m\u001b[0m\n\u001b[0m\u001b[1;32m     49\u001b[0m \u001b[0;34m\u001b[0m\u001b[0m\n\u001b[1;32m     50\u001b[0m \u001b[0;34m\u001b[0m\u001b[0m\n",
      "\u001b[0;32m<ipython-input-21-40ad4dae5ccc>\u001b[0m in \u001b[0;36mmain\u001b[0;34m(argv)\u001b[0m\n\u001b[1;32m    117\u001b[0m \u001b[0;34m\u001b[0m\u001b[0m\n\u001b[1;32m    118\u001b[0m \u001b[0;32mdef\u001b[0m \u001b[0mmain\u001b[0m\u001b[0;34m(\u001b[0m\u001b[0margv\u001b[0m\u001b[0;34m=\u001b[0m\u001b[0;32mNone\u001b[0m\u001b[0;34m)\u001b[0m\u001b[0;34m:\u001b[0m  \u001b[0;31m# pylint: disable=unused-argument\u001b[0m\u001b[0;34m\u001b[0m\u001b[0m\n\u001b[0;32m--> 119\u001b[0;31m   \u001b[0mcifar10\u001b[0m\u001b[0;34m.\u001b[0m\u001b[0mmaybe_download_and_extract\u001b[0m\u001b[0;34m(\u001b[0m\u001b[0;34m)\u001b[0m\u001b[0;34m\u001b[0m\u001b[0m\n\u001b[0m\u001b[1;32m    120\u001b[0m   \u001b[0;32mif\u001b[0m \u001b[0mtf\u001b[0m\u001b[0;34m.\u001b[0m\u001b[0mgfile\u001b[0m\u001b[0;34m.\u001b[0m\u001b[0mExists\u001b[0m\u001b[0;34m(\u001b[0m\u001b[0mFLAGS\u001b[0m\u001b[0;34m.\u001b[0m\u001b[0mtrain_dir\u001b[0m\u001b[0;34m)\u001b[0m\u001b[0;34m:\u001b[0m\u001b[0;34m\u001b[0m\u001b[0m\n\u001b[1;32m    121\u001b[0m     \u001b[0mtf\u001b[0m\u001b[0;34m.\u001b[0m\u001b[0mgfile\u001b[0m\u001b[0;34m.\u001b[0m\u001b[0mDeleteRecursively\u001b[0m\u001b[0;34m(\u001b[0m\u001b[0mFLAGS\u001b[0m\u001b[0;34m.\u001b[0m\u001b[0mtrain_dir\u001b[0m\u001b[0;34m)\u001b[0m\u001b[0;34m\u001b[0m\u001b[0m\n",
      "\u001b[0;31mAttributeError\u001b[0m: module 'cifar10' has no attribute 'maybe_download_and_extract'"
     ]
    }
   ],
   "source": []
  },
  {
   "cell_type": "markdown",
   "metadata": {},
   "source": [
    "#### Some Useful Libraries:\n",
    "Scipy and numpy are commonly used for scientific computing. If you are not using any IDE, you can download those libraries from the following URLs:\n",
    "\n",
    "##### Numpy:  https://www.numpy.org\n",
    "NumPy is the fundamental package for scientific computing with Python. It contains among other things:\n",
    "\n",
    "    - a powerful N-dimensional array object\n",
    "    - sophisticated (broadcasting) functions\n",
    "    - tools for integrating C/C++ and Fortran code\n",
    "    - useful linear algebra, Fourier transform, and random number capabilities\n",
    "\n",
    "##### Scipy: https://www.scipy.org\n",
    "\n",
    "SciPy contains additional routines needed in scientific work: for example, routines for computing integrals numerically, solving differential equations, optimization, and sparse matrices. \n",
    "\n",
    "\n",
    "##### Matplot: http://matplotlib.org\n",
    "Matplotlib is a Python 2D plotting library which produces publication quality figures in a variety of hardcopy formats and interactive environments across platforms. Matplotlib can be used in Python scripts, the Python and IPython shells, the Jupyter notebook, web application servers, and four graphical user interface toolkits.\n",
    "\n",
    "\n"
   ]
  },
  {
   "cell_type": "code",
   "execution_count": 59,
   "metadata": {},
   "outputs": [
    {
     "data": {
      "image/png": "[encoded data removed]",
      "text/plain": [
       "<matplotlib.figure.Figure at 0x111f90d68>"
      ]
     },
     "metadata": {},
     "output_type": "display_data"
    },
    {
     "data": {
      "image/png": "[encoded data removed]",
      "text/plain": [
       "<matplotlib.figure.Figure at 0x113656d68>"
      ]
     },
     "metadata": {},
     "output_type": "display_data"
    }
   ],
   "source": [
    "\"\"\"\n",
    "========\n",
    "Barchart\n",
    "========\n",
    "\n",
    "A bar plot with errorbars and height labels on individual bars\n",
    "\"\"\"\n",
    "import numpy as np\n",
    "import matplotlib.pyplot as plt\n",
    "\n",
    "N = 5\n",
    "men_means = (20, 35, 30, 35, 27)\n",
    "men_std = (2, 3, 4, 1, 2)\n",
    "\n",
    "ind = np.arange(N)  # the x locations for the groups\n",
    "width = 0.35       # the width of the bars\n",
    "\n",
    "fig, ax = plt.subplots()\n",
    "rects1 = ax.bar(ind, men_means, width, color='r', yerr=men_std)\n",
    "\n",
    "women_means = (25, 32, 34, 20, 25)\n",
    "women_std = (3, 5, 2, 3, 3)\n",
    "rects2 = ax.bar(ind + width, women_means, width, color='y', yerr=women_std)\n",
    "\n",
    "# add some text for labels, title and axes ticks\n",
    "ax.set_ylabel('Scores')\n",
    "ax.set_title('Scores by group and gender')\n",
    "ax.set_xticks(ind + width / 2)\n",
    "ax.set_xticklabels(('G1', 'G2', 'G3', 'G4', 'G5'))\n",
    "\n",
    "ax.legend((rects1[0], rects2[0]), ('Men', 'Women'))\n",
    "\n",
    "\n",
    "def autolabel(rects):\n",
    "    \"\"\"\n",
    "    Attach a text label above each bar displaying its height\n",
    "    \"\"\"\n",
    "    for rect in rects:\n",
    "        height = rect.get_height()\n",
    "        ax.text(rect.get_x() + rect.get_width()/2., 1.05*height,\n",
    "                '%d' % int(height),\n",
    "                ha='center', va='bottom')\n",
    "\n",
    "autolabel(rects1)\n",
    "autolabel(rects2)\n",
    "\n",
    "plt.show()"
   ]
  },
  {
   "cell_type": "markdown",
   "metadata": {},
   "source": [
    "### File IO and Object-Oriented Programming\n",
    "In this section, we will cover how to use file IO and OOP. We assume you already know this in at least one programming, so we will just cover the syntax part. File IO is essential for programming assignments, it will be used for the whole semester. OOP is recommended to be used but not required. "
   ]
  },
  {
   "cell_type": "code",
   "execution_count": 46,
   "metadata": {},
   "outputs": [
    {
     "name": "stdout",
     "output_type": "stream",
     "text": [
      "This is a file\n",
      "\n",
      "   This\n",
      "   is\n",
      "   a\n",
      "   file\n",
      "\n",
      "Words should be splited correctly by space.\n",
      "\n",
      "   Words\n",
      "   should\n",
      "   be\n",
      "   splited\n",
      "   correctly\n",
      "   by\n",
      "   space.\n",
      "\n",
      "aaaa;;;bbb bbb!aa}\n",
      "\n",
      "   aaaa;;;bbb\n",
      "   bbb!aa}\n",
      "\n",
      "words and Words are different.\n",
      "   words\n",
      "   and\n",
      "   Words\n",
      "   are\n",
      "   different.\n"
     ]
    }
   ],
   "source": [
    "# Example 6: File IO\n",
    "# Two commonly used data structure [] and {} are covered as well.\n",
    "\n",
    "inputFile = \"testfile.txt\" \n",
    "wordList = [] # List data structure, it's similar to arrayList in Java\n",
    "wordDict = {} # Dictionary data structure, it's similar to a hash table\n",
    "with open(inputFile) as f: # f is a file descriptor\n",
    "    lines = f.readlines()  # file is readed line by line\n",
    "    for l in lines:  \n",
    "        print(l)            #print each line\n",
    "        for word in l.split(\" \"): # split each line by whitespace.\n",
    "            print (\"   \" + word)\n",
    "            wordList.append(word) # append this word to the end of wordList\n",
    "            if word in wordDict:\n",
    "                wordDict[word] +=1\n",
    "            else:\n",
    "                wordDict[word] = 1\n",
    "\n",
    "'''\n",
    "    File descriptor is automatically managed by python. You don't have to do this close() \n",
    "    manually, but it's a good practice. \n",
    "  '''\n",
    "f.close() \n",
    "\n",
    "outputFile = \"outputfile.txt\""
   ]
  },
  {
   "cell_type": "code",
   "execution_count": 49,
   "metadata": {
    "collapsed": true
   },
   "outputs": [],
   "source": [
    "# Continue of the above example\n",
    "outputFile = \"doesnotexist.txt\"\n",
    "with open (outputFile, 'w+') as f:\n",
    "    for word in wordList:\n",
    "        f.write(word + \" \")\n",
    "    f.write(\"\\n\")\n",
    "    for word in wordDict:\n",
    "        f.write(word + \":\" + str(wordDict[word]) + \"\\n\")"
   ]
  },
  {
   "cell_type": "code",
   "execution_count": 58,
   "metadata": {},
   "outputs": [
    {
     "name": "stdout",
     "output_type": "stream",
     "text": [
      "wrong course number\n",
      "{'502': True, '503': False, '526': False, '555': False, '580': False, '590SA': True}\n"
     ]
    }
   ],
   "source": [
    "# Example 7 Object Oriented Programming:\n",
    "\n",
    "# A global variable for all computer science course at XY University\n",
    "Courses = [\"502\",\"503\",\"526\",\"555\",\"580\",\"590SA\"]\n",
    "\n",
    "# Use keyword class to define a class\n",
    "\n",
    "\n",
    "class GraduateStudent: \n",
    "    \n",
    "    advisor = None\n",
    "    year = 0\n",
    "    courseTaken = {}\n",
    "    # A simple constructor\n",
    "    def __init__(self, advisor, year):\n",
    "        self.advisor = None\n",
    "        self.year = 0\n",
    "        self.courseTaken  = {}\n",
    "        for c in Courses:\n",
    "            self.courseTaken[c] = False\n",
    "           \n",
    "    def takeCourse(self, course):\n",
    "        if course in Courses:\n",
    "            self.courseTaken[course] = True\n",
    "        else:\n",
    "           print(\"wrong course number\")\n",
    "    \n",
    "    def setAdvisor(self, advisor):\n",
    "        self.advisor = advisor\n",
    "\n",
    "def main():\n",
    "    studentA = GraduateStudent(None, 1)\n",
    "    studentA.takeCourse(\"590SA\")\n",
    "    studentA.takeCourse(\"590\")\n",
    "    studentA.takeCourse(\"502\")\n",
    "    print(studentA.courseTaken)\n",
    "\n",
    "main()\n"
   ]
  },
  {
   "cell_type": "markdown",
   "metadata": {
    "collapsed": true
   },
   "source": [
    "## Additional Reading\n",
    "If you believe you still need more materials to read, we recommend you check the following resources:\n",
    "   1. Coursera Python Course: https://www.coursera.org/specializations/python \n",
    "   2. http://mcsp.wartburg.edu/zelle/python/ppics2/index.html This is the textbook website we used for undergraduate python course. The slides are free to download.\n",
    "   3. Official Tutorial: https://docs.python.org/3/tutorial/."
   ]
  }
 ],
 "metadata": {
  "kernelspec": {
   "display_name": "Python 3",
   "language": "python",
   "name": "python3"
  },
  "language_info": {
   "codemirror_mode": {
    "name": "ipython",
    "version": 3
   },
   "file_extension": ".py",
   "mimetype": "text/x-python",
   "name": "python",
   "nbconvert_exporter": "python",
   "pygments_lexer": "ipython3",
   "version": "3.6.2"
  }
 },
 "nbformat": 4,
 "nbformat_minor": 2
}
